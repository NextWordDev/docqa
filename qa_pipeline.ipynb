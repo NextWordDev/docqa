{
 "cells": [
  {
   "cell_type": "code",
   "execution_count": 1,
   "id": "588965ba-7ada-44c6-a7d2-c809d19ee5fc",
   "metadata": {},
   "outputs": [],
   "source": [
    "import pinecone "
   ]
  },
  {
   "cell_type": "code",
   "execution_count": 2,
   "id": "7a9882ac-ef12-4bb6-98a8-cac110b17725",
   "metadata": {},
   "outputs": [],
   "source": [
    "API_KEY = \"62ae9e89-5398-46ab-957d-1c779fc3a9fc\""
   ]
  },
  {
   "cell_type": "code",
   "execution_count": 23,
   "id": "7fb39e6e-29ca-4f3e-9b86-e63cf8512f99",
   "metadata": {},
   "outputs": [],
   "source": [
    "import os\n",
    "from sentence_transformers import SentenceTransformer\n",
    "from transformers import pipeline\n",
    "from pathlib import Path\n",
    "import json\n",
    "\n",
    "MODEL = \"mpnetv3\"\n",
    "# This is a sentence-transformers model: It maps sentences & paragraphs to a 768 dimensional dense vector space and can be used for tasks like clustering or semantic search.\n",
    "# This gets the bi-encoding and similarity (given 1, compare to N) - this is the retriever model\n",
    "MODEL_URL = \"flax-sentence-embeddings/all_datasets_v3_mpnet-base\"\n",
    "MODEL_URL2 = \"all-distilroberta-v1\"\n",
    "INDEX = 'search-webinar'"
   ]
  },
  {
   "cell_type": "code",
   "execution_count": 24,
   "id": "fd03050a-b9ce-4805-a8c3-44e83d32d1d3",
   "metadata": {},
   "outputs": [],
   "source": [
    "retriever_mpnet = retriever"
   ]
  },
  {
   "cell_type": "code",
   "execution_count": 25,
   "id": "e88c54cc-ee34-4f39-9eb4-05048672911c",
   "metadata": {},
   "outputs": [],
   "source": [
    "retriever = SentenceTransformer(MODEL_URL)"
   ]
  },
  {
   "cell_type": "code",
   "execution_count": 10,
   "id": "770677e8-f62e-4e47-8dbd-4c7d31d3f7be",
   "metadata": {},
   "outputs": [
    {
     "data": {
      "application/vnd.jupyter.widget-view+json": {
       "model_id": "a279561b97734edb90f5e18b346a8e91",
       "version_major": 2,
       "version_minor": 0
      },
      "text/plain": [
       "Downloading:   0%|          | 0.00/635 [00:00<?, ?B/s]"
      ]
     },
     "metadata": {},
     "output_type": "display_data"
    },
    {
     "data": {
      "application/vnd.jupyter.widget-view+json": {
       "model_id": "3ed3d8ef7fdb4d86a009df904adf0e7a",
       "version_major": 2,
       "version_minor": 0
      },
      "text/plain": [
       "Downloading:   0%|          | 0.00/436M [00:00<?, ?B/s]"
      ]
     },
     "metadata": {},
     "output_type": "display_data"
    },
    {
     "data": {
      "application/vnd.jupyter.widget-view+json": {
       "model_id": "a225f8d4d7624219b14255091053a116",
       "version_major": 2,
       "version_minor": 0
      },
      "text/plain": [
       "Downloading:   0%|          | 0.00/200 [00:00<?, ?B/s]"
      ]
     },
     "metadata": {},
     "output_type": "display_data"
    },
    {
     "data": {
      "application/vnd.jupyter.widget-view+json": {
       "model_id": "5f274188d7d84187a818caf2fd40ccc7",
       "version_major": 2,
       "version_minor": 0
      },
      "text/plain": [
       "Downloading:   0%|          | 0.00/232k [00:00<?, ?B/s]"
      ]
     },
     "metadata": {},
     "output_type": "display_data"
    },
    {
     "data": {
      "application/vnd.jupyter.widget-view+json": {
       "model_id": "444264cabb6a44c08986f1c5fe478256",
       "version_major": 2,
       "version_minor": 0
      },
      "text/plain": [
       "Downloading:   0%|          | 0.00/112 [00:00<?, ?B/s]"
      ]
     },
     "metadata": {},
     "output_type": "display_data"
    }
   ],
   "source": [
    "# This is the actual Question answering model, given context (this must be called a reader model)\n",
    "READER = \"deepset/electra-base-squad2\"\n",
    "reader = pipeline(\n",
    "    'question-answering',\n",
    "    model=READER,\n",
    "    tokenizer=READER\n",
    ")"
   ]
  },
  {
   "cell_type": "code",
   "execution_count": 12,
   "id": "9c028435-19d7-407c-b9a4-93397d69a283",
   "metadata": {},
   "outputs": [],
   "source": [
    "pinecone.init(\n",
    "    api_key = API_KEY,\n",
    "    environment=\"us-west1-gcp\"\n",
    ")"
   ]
  },
  {
   "cell_type": "code",
   "execution_count": 15,
   "id": "5448dd90-cd14-41c3-8b04-a5f2b360b66a",
   "metadata": {},
   "outputs": [
    {
     "data": {
      "text/plain": [
       "{'dimension': 768,\n",
       " 'index_fullness': 0.0,\n",
       " 'namespaces': {'': {'vector_count': 600}},\n",
       " 'total_vector_count': 600}"
      ]
     },
     "execution_count": 15,
     "metadata": {},
     "output_type": "execute_result"
    }
   ],
   "source": [
    "index = pinecone.Index(INDEX)\n",
    "index.describe_index_stats()"
   ]
  },
  {
   "cell_type": "code",
   "execution_count": 26,
   "id": "4f9ebe9f-eb8f-4dd5-865e-c7ef0e347abd",
   "metadata": {},
   "outputs": [],
   "source": [
    "query = \"How do I create custom components\"\n",
    "xq = retriever.encode([query]).tolist()"
   ]
  },
  {
   "cell_type": "code",
   "execution_count": 27,
   "id": "488e5071-8ce3-495f-8487-5f1d115e0575",
   "metadata": {
    "tags": []
   },
   "outputs": [
    {
     "name": "stdout",
     "output_type": "stream",
     "text": [
      "768\n"
     ]
    }
   ],
   "source": [
    "print(len(xq[0])) # we got a 768 dimension vector back"
   ]
  },
  {
   "cell_type": "code",
   "execution_count": 28,
   "id": "8ab244d1-c82c-47a9-9bd1-5c6d440c7e26",
   "metadata": {},
   "outputs": [],
   "source": [
    "xc = index.query(\n",
    "    xq, top_k=5, include_metadata=True\n",
    ")"
   ]
  },
  {
   "cell_type": "code",
   "execution_count": 30,
   "id": "0131e0d6-4887-45fb-b9cc-9de68541413c",
   "metadata": {},
   "outputs": [
    {
     "data": {
      "text/plain": [
       "{'matches': [{'id': '51',\n",
       "              'metadata': {'char_length': 79.0,\n",
       "                           'is_duplicate': 0.0,\n",
       "                           'tokens': ['what',\n",
       "                                      'are',\n",
       "                                      'some',\n",
       "                                      'tips',\n",
       "                                      'on',\n",
       "                                      'making',\n",
       "                                      'it',\n",
       "                                      'through',\n",
       "                                      'the',\n",
       "                                      'job',\n",
       "                                      'interview',\n",
       "                                      'process',\n",
       "                                      'at',\n",
       "                                      'medicines',\n",
       "                                      '?']},\n",
       "              'score': 0.126125678,\n",
       "              'sparseValues': {},\n",
       "              'values': []},\n",
       "             {'id': '460',\n",
       "              'metadata': {'char_length': 47.0,\n",
       "                           'is_duplicate': 1.0,\n",
       "                           'tokens': ['what',\n",
       "                                      'can',\n",
       "                                      'i',\n",
       "                                      'do',\n",
       "                                      'to',\n",
       "                                      'make',\n",
       "                                      'the',\n",
       "                                      'world',\n",
       "                                      'a',\n",
       "                                      'better',\n",
       "                                      'place',\n",
       "                                      '?']},\n",
       "              'score': 0.126023158,\n",
       "              'sparseValues': {},\n",
       "              'values': []},\n",
       "             {'id': '100',\n",
       "              'metadata': {'char_length': 21.0,\n",
       "                           'is_duplicate': 1.0,\n",
       "                           'tokens': ['how', 'to', 'make', 'friends', '?']},\n",
       "              'score': 0.119475394,\n",
       "              'sparseValues': {},\n",
       "              'values': []},\n",
       "             {'id': '159',\n",
       "              'metadata': {'char_length': 24.0,\n",
       "                           'is_duplicate': 1.0,\n",
       "                           'tokens': ['what',\n",
       "                                      'is',\n",
       "                                      'purpose',\n",
       "                                      'of',\n",
       "                                      'life',\n",
       "                                      '?']},\n",
       "              'score': 0.114451528,\n",
       "              'sparseValues': {},\n",
       "              'values': []},\n",
       "             {'id': '391',\n",
       "              'metadata': {'char_length': 48.0,\n",
       "                           'is_duplicate': 0.0,\n",
       "                           'tokens': ['what',\n",
       "                                      'is',\n",
       "                                      'the',\n",
       "                                      'work',\n",
       "                                      'of',\n",
       "                                      'an',\n",
       "                                      'executive',\n",
       "                                      'recruiter',\n",
       "                                      'like',\n",
       "                                      '?']},\n",
       "              'score': 0.113719776,\n",
       "              'sparseValues': {},\n",
       "              'values': []}],\n",
       " 'namespace': ''}"
      ]
     },
     "execution_count": 30,
     "metadata": {},
     "output_type": "execute_result"
    }
   ],
   "source": [
    "xc # mpnet and roberta are giving similar matches (both)"
   ]
  },
  {
   "cell_type": "code",
   "execution_count": 44,
   "id": "54d23990-40d8-4dd5-a87c-c6400471221e",
   "metadata": {},
   "outputs": [
    {
     "data": {
      "text/plain": [
       "['51', '460', '100', '159', '391']"
      ]
     },
     "execution_count": 44,
     "metadata": {},
     "output_type": "execute_result"
    }
   ],
   "source": [
    "[x[\"id\"] for x in xc[\"matches\"]]"
   ]
  },
  {
   "cell_type": "code",
   "execution_count": null,
   "id": "8c6eef5a-e7e1-44bd-82c2-4e5d9ec7f7f6",
   "metadata": {},
   "outputs": [],
   "source": [
    "# "
   ]
  }
 ],
 "metadata": {
  "kernelspec": {
   "display_name": "Python 3 (ipykernel)",
   "language": "python",
   "name": "python3"
  },
  "language_info": {
   "codemirror_mode": {
    "name": "ipython",
    "version": 3
   },
   "file_extension": ".py",
   "mimetype": "text/x-python",
   "name": "python",
   "nbconvert_exporter": "python",
   "pygments_lexer": "ipython3",
   "version": "3.10.6"
  }
 },
 "nbformat": 4,
 "nbformat_minor": 5
}
